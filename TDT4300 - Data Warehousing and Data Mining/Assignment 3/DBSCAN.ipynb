{
  "cells": [
    {
      "cell_type": "markdown",
      "metadata": {
        "id": "gZP1J6CU-O2Q"
      },
      "source": [
        "# Import different libraries\n",
        "\n",
        "In this task we want to use [sklearn](https://scikit-learn.org/stable/user_guide.html) library for DBSCAN implementation."
      ]
    },
    {
      "cell_type": "code",
      "execution_count": 7,
      "metadata": {
        "id": "MubH-H146UsX"
      },
      "outputs": [],
      "source": [
        "import numpy as np\n",
        "from sklearn import metrics\n",
        "from sklearn.cluster import DBSCAN\n",
        "import matplotlib.pyplot as plt"
      ]
    },
    {
      "cell_type": "markdown",
      "metadata": {
        "id": "ghuXTUgK_1dg"
      },
      "source": [
        "# Data\n",
        "\n",
        "We need to define the data here"
      ]
    },
    {
      "cell_type": "code",
      "execution_count": 28,
      "metadata": {
        "id": "qf-iyovY_hp6"
      },
      "outputs": [],
      "source": [
        "# define the data as a 2d numpy array\n",
        "\n",
        "data = np.array([[14, 1], [1, 8], [3, 12], [5, 1], [13, 11], [12, 6], [4, 12], [1, 8], [8, 3], [5, 1], [14, 12], [12, 9], [4, 5], [8, 4], [2, 3]])\n",
        "\n",
        "# TODO: data should be a 2d array with the values provided in the assignment\n",
        "assert data is not None, \"You did not define the data yet!\"\n"
      ]
    },
    {
      "cell_type": "markdown",
      "metadata": {
        "id": "IbJHok6xCEmY"
      },
      "source": [
        "# Cluster\n",
        "\n",
        "We need to call and run the DBSCAN here"
      ]
    },
    {
      "cell_type": "code",
      "execution_count": 23,
      "metadata": {
        "id": "iWIT6BXwAMnf"
      },
      "outputs": [],
      "source": [
        "# TODO define a clustering and fit it to the data\n",
        "clustering = DBSCAN(eps=4, min_samples=3).fit(data)\n",
        "assert clustering is not None, \"You did not define the clustering yet!\"\n",
        "\n",
        "labels = clustering.labels_"
      ]
    },
    {
      "cell_type": "code",
      "execution_count": 24,
      "metadata": {
        "id": "JuolGNt6DOHv"
      },
      "outputs": [
        {
          "data": {
            "text/plain": [
              "array([-1, -1, -1,  0,  1,  1, -1, -1,  0,  0,  1,  1,  0,  0,  0])"
            ]
          },
          "execution_count": 24,
          "metadata": {},
          "output_type": "execute_result"
        }
      ],
      "source": [
        "labels"
      ]
    },
    {
      "cell_type": "code",
      "execution_count": 25,
      "metadata": {
        "id": "PQS4iGKDDooT"
      },
      "outputs": [
        {
          "name": "stdout",
          "output_type": "stream",
          "text": [
            "Estimated number of clusters: 2\n",
            "Estimated number of noise points: 5\n"
          ]
        }
      ],
      "source": [
        "# Number of clusters in labels, ignoring noise if present.\n",
        "n_clusters_ = len(set(labels)) - (1 if -1 in labels else 0)\n",
        "n_noise_ = list(labels).count(-1)\n",
        "\n",
        "print(\"Estimated number of clusters: %d\" % n_clusters_)\n",
        "print(\"Estimated number of noise points: %d\" % n_noise_)"
      ]
    },
    {
      "cell_type": "markdown",
      "metadata": {
        "id": "aYmJ8v0dFvtC"
      },
      "source": [
        "# Plot\n",
        "\n",
        "use the following code to plot the clusters"
      ]
    },
    {
      "cell_type": "code",
      "execution_count": 26,
      "metadata": {
        "id": "3r6OwQHyEMFF"
      },
      "outputs": [
        {
          "data": {
            "image/png": "[encoded data removed]",
            "text/plain": [
              "<Figure size 640x480 with 1 Axes>"
            ]
          },
          "metadata": {},
          "output_type": "display_data"
        }
      ],
      "source": [
        "unique_labels = set(labels)\n",
        "core_samples_mask = np.zeros_like(labels, dtype=bool)\n",
        "core_samples_mask[clustering.core_sample_indices_] = True\n",
        "\n",
        "colors = [plt.cm.Spectral(each) for each in np.linspace(0, 1, len(unique_labels))]\n",
        "for k, col in zip(unique_labels, colors):\n",
        "    if k == -1:\n",
        "        # Black used for noise.\n",
        "        col = [0, 0, 0, 1]\n",
        "\n",
        "    class_member_mask = labels == k\n",
        "\n",
        "    xy = data[class_member_mask & core_samples_mask]\n",
        "    plt.plot(\n",
        "        xy[:, 0],\n",
        "        xy[:, 1],\n",
        "        \"o\",\n",
        "        markerfacecolor=tuple(col),\n",
        "        markeredgecolor=\"k\",\n",
        "        markersize=14,\n",
        "    )\n",
        "\n",
        "    xy = data[class_member_mask & ~core_samples_mask]\n",
        "    plt.plot(\n",
        "        xy[:, 0],\n",
        "        xy[:, 1],\n",
        "        \"o\",\n",
        "        markerfacecolor=tuple(col),\n",
        "        markeredgecolor=\"k\",\n",
        "        markersize=6,\n",
        "    )\n",
        "\n",
        "plt.title(f\"Estimated number of clusters: {n_clusters_}\")\n",
        "plt.savefig('cluster.png')\n",
        "plt.show()"
      ]
    },
    {
      "cell_type": "code",
      "execution_count": null,
      "metadata": {
        "id": "gd8wxIVbF_Gs"
      },
      "outputs": [],
      "source": [
        "# distance matrix calculation\n",
        "import pandas as pd\n",
        "from scipy.spatial import distance_matrix\n",
        "\n",
        "point_names = [0, 1, 2, 3, 4, 5, 6, 7, 8, 9, 10, 11, 12, 13, 14]\n",
        "df = pd.DataFrame(data, columns = ['xcord', 'ycord'], index = point_names)\n",
        "dist = pd.DataFrame(distance_matrix(df.values, df.values), index=df.index, columns=df.index)\n",
        "\n",
        "print(dist)"
      ]
    }
  ],
  "metadata": {
    "colab": {
      "provenance": []
    },
    "kernelspec": {
      "display_name": "Python 3",
      "name": "python3"
    },
    "language_info": {
      "codemirror_mode": {
        "name": "ipython",
        "version": 3
      },
      "file_extension": ".py",
      "mimetype": "text/x-python",
      "name": "python",
      "nbconvert_exporter": "python",
      "pygments_lexer": "ipython3",
      "version": "3.10.6"
    }
  },
  "nbformat": 4,
  "nbformat_minor": 0
}
